{
 "cells": [
  {
   "cell_type": "code",
   "execution_count": 29,
   "metadata": {},
   "outputs": [],
   "source": [
    "import pandas as pd \n",
    "import matplotlib.pyplot as plt\n",
    "import pickle\n",
    "import json"
   ]
  },
  {
   "cell_type": "code",
   "execution_count": 4,
   "metadata": {},
   "outputs": [
    {
     "data": {
      "text/html": [
       "<div>\n",
       "<style scoped>\n",
       "    .dataframe tbody tr th:only-of-type {\n",
       "        vertical-align: middle;\n",
       "    }\n",
       "\n",
       "    .dataframe tbody tr th {\n",
       "        vertical-align: top;\n",
       "    }\n",
       "\n",
       "    .dataframe thead th {\n",
       "        text-align: right;\n",
       "    }\n",
       "</style>\n",
       "<table border=\"1\" class=\"dataframe\">\n",
       "  <thead>\n",
       "    <tr style=\"text-align: right;\">\n",
       "      <th></th>\n",
       "      <th>route_id</th>\n",
       "      <th>service_id</th>\n",
       "      <th>trip_id</th>\n",
       "      <th>trip_headsign</th>\n",
       "      <th>trip_short_name</th>\n",
       "      <th>direction_id</th>\n",
       "      <th>block_id</th>\n",
       "      <th>shape_id</th>\n",
       "      <th>wheelchair_accessible</th>\n",
       "      <th>bikes_allowed</th>\n",
       "    </tr>\n",
       "  </thead>\n",
       "  <tbody>\n",
       "    <tr>\n",
       "      <th>0</th>\n",
       "      <td>777</td>\n",
       "      <td>48686.126106</td>\n",
       "      <td>670294</td>\n",
       "      <td>NaN</td>\n",
       "      <td>NaN</td>\n",
       "      <td>NaN</td>\n",
       "      <td>23714</td>\n",
       "      <td>48686</td>\n",
       "      <td>0</td>\n",
       "      <td>0</td>\n",
       "    </tr>\n",
       "    <tr>\n",
       "      <th>1</th>\n",
       "      <td>777</td>\n",
       "      <td>48686.126106</td>\n",
       "      <td>670295</td>\n",
       "      <td>NaN</td>\n",
       "      <td>NaN</td>\n",
       "      <td>NaN</td>\n",
       "      <td>23714</td>\n",
       "      <td>48686</td>\n",
       "      <td>0</td>\n",
       "      <td>0</td>\n",
       "    </tr>\n",
       "    <tr>\n",
       "      <th>2</th>\n",
       "      <td>777</td>\n",
       "      <td>48686.126106</td>\n",
       "      <td>670296</td>\n",
       "      <td>NaN</td>\n",
       "      <td>NaN</td>\n",
       "      <td>NaN</td>\n",
       "      <td>23714</td>\n",
       "      <td>48686</td>\n",
       "      <td>0</td>\n",
       "      <td>0</td>\n",
       "    </tr>\n",
       "    <tr>\n",
       "      <th>3</th>\n",
       "      <td>777</td>\n",
       "      <td>48686.126106</td>\n",
       "      <td>670297</td>\n",
       "      <td>NaN</td>\n",
       "      <td>NaN</td>\n",
       "      <td>NaN</td>\n",
       "      <td>23714</td>\n",
       "      <td>48686</td>\n",
       "      <td>0</td>\n",
       "      <td>0</td>\n",
       "    </tr>\n",
       "    <tr>\n",
       "      <th>4</th>\n",
       "      <td>777</td>\n",
       "      <td>48686.126106</td>\n",
       "      <td>670298</td>\n",
       "      <td>NaN</td>\n",
       "      <td>NaN</td>\n",
       "      <td>NaN</td>\n",
       "      <td>23714</td>\n",
       "      <td>48686</td>\n",
       "      <td>0</td>\n",
       "      <td>0</td>\n",
       "    </tr>\n",
       "    <tr>\n",
       "      <th>...</th>\n",
       "      <td>...</td>\n",
       "      <td>...</td>\n",
       "      <td>...</td>\n",
       "      <td>...</td>\n",
       "      <td>...</td>\n",
       "      <td>...</td>\n",
       "      <td>...</td>\n",
       "      <td>...</td>\n",
       "      <td>...</td>\n",
       "      <td>...</td>\n",
       "    </tr>\n",
       "    <tr>\n",
       "      <th>333</th>\n",
       "      <td>5707</td>\n",
       "      <td>48152.126137</td>\n",
       "      <td>670590</td>\n",
       "      <td>SEC Express</td>\n",
       "      <td>NaN</td>\n",
       "      <td>NaN</td>\n",
       "      <td>23728</td>\n",
       "      <td>48700</td>\n",
       "      <td>0</td>\n",
       "      <td>0</td>\n",
       "    </tr>\n",
       "    <tr>\n",
       "      <th>334</th>\n",
       "      <td>5707</td>\n",
       "      <td>48152.124657</td>\n",
       "      <td>670598</td>\n",
       "      <td>SEC Express</td>\n",
       "      <td>NaN</td>\n",
       "      <td>NaN</td>\n",
       "      <td>23727</td>\n",
       "      <td>48700</td>\n",
       "      <td>0</td>\n",
       "      <td>0</td>\n",
       "    </tr>\n",
       "    <tr>\n",
       "      <th>335</th>\n",
       "      <td>5707</td>\n",
       "      <td>48152.124657</td>\n",
       "      <td>670599</td>\n",
       "      <td>SEC Express</td>\n",
       "      <td>NaN</td>\n",
       "      <td>NaN</td>\n",
       "      <td>23727</td>\n",
       "      <td>48700</td>\n",
       "      <td>0</td>\n",
       "      <td>0</td>\n",
       "    </tr>\n",
       "    <tr>\n",
       "      <th>336</th>\n",
       "      <td>5707</td>\n",
       "      <td>48152.124657</td>\n",
       "      <td>670600</td>\n",
       "      <td>SEC Express</td>\n",
       "      <td>NaN</td>\n",
       "      <td>NaN</td>\n",
       "      <td>23728</td>\n",
       "      <td>48700</td>\n",
       "      <td>0</td>\n",
       "      <td>0</td>\n",
       "    </tr>\n",
       "    <tr>\n",
       "      <th>337</th>\n",
       "      <td>5707</td>\n",
       "      <td>48152.124657</td>\n",
       "      <td>670601</td>\n",
       "      <td>SEC Express</td>\n",
       "      <td>NaN</td>\n",
       "      <td>NaN</td>\n",
       "      <td>23728</td>\n",
       "      <td>48700</td>\n",
       "      <td>0</td>\n",
       "      <td>0</td>\n",
       "    </tr>\n",
       "  </tbody>\n",
       "</table>\n",
       "<p>338 rows × 10 columns</p>\n",
       "</div>"
      ],
      "text/plain": [
       "     route_id    service_id  trip_id trip_headsign  trip_short_name  \\\n",
       "0         777  48686.126106   670294           NaN              NaN   \n",
       "1         777  48686.126106   670295           NaN              NaN   \n",
       "2         777  48686.126106   670296           NaN              NaN   \n",
       "3         777  48686.126106   670297           NaN              NaN   \n",
       "4         777  48686.126106   670298           NaN              NaN   \n",
       "..        ...           ...      ...           ...              ...   \n",
       "333      5707  48152.126137   670590   SEC Express              NaN   \n",
       "334      5707  48152.124657   670598   SEC Express              NaN   \n",
       "335      5707  48152.124657   670599   SEC Express              NaN   \n",
       "336      5707  48152.124657   670600   SEC Express              NaN   \n",
       "337      5707  48152.124657   670601   SEC Express              NaN   \n",
       "\n",
       "     direction_id  block_id  shape_id  wheelchair_accessible  bikes_allowed  \n",
       "0             NaN     23714     48686                      0              0  \n",
       "1             NaN     23714     48686                      0              0  \n",
       "2             NaN     23714     48686                      0              0  \n",
       "3             NaN     23714     48686                      0              0  \n",
       "4             NaN     23714     48686                      0              0  \n",
       "..            ...       ...       ...                    ...            ...  \n",
       "333           NaN     23728     48700                      0              0  \n",
       "334           NaN     23727     48700                      0              0  \n",
       "335           NaN     23727     48700                      0              0  \n",
       "336           NaN     23728     48700                      0              0  \n",
       "337           NaN     23728     48700                      0              0  \n",
       "\n",
       "[338 rows x 10 columns]"
      ]
     },
     "execution_count": 4,
     "metadata": {},
     "output_type": "execute_result"
    }
   ],
   "source": [
    "# trips.txt: there are multiple trips per shuttle\n",
    "\n",
    "df_trips = pd.read_csv('./passio-go/public/google_transit/trips.txt')\n",
    "df_trips"
   ]
  },
  {
   "cell_type": "code",
   "execution_count": 10,
   "metadata": {},
   "outputs": [
    {
     "data": {
      "text/html": [
       "<div>\n",
       "<style scoped>\n",
       "    .dataframe tbody tr th:only-of-type {\n",
       "        vertical-align: middle;\n",
       "    }\n",
       "\n",
       "    .dataframe tbody tr th {\n",
       "        vertical-align: top;\n",
       "    }\n",
       "\n",
       "    .dataframe thead th {\n",
       "        text-align: right;\n",
       "    }\n",
       "</style>\n",
       "<table border=\"1\" class=\"dataframe\">\n",
       "  <thead>\n",
       "    <tr style=\"text-align: right;\">\n",
       "      <th></th>\n",
       "      <th>shape_id</th>\n",
       "      <th>shape_pt_lat</th>\n",
       "      <th>shape_pt_lon</th>\n",
       "      <th>shape_pt_sequence</th>\n",
       "    </tr>\n",
       "  </thead>\n",
       "  <tbody>\n",
       "    <tr>\n",
       "      <th>0</th>\n",
       "      <td>48686</td>\n",
       "      <td>42.381867</td>\n",
       "      <td>-71.125325</td>\n",
       "      <td>1</td>\n",
       "    </tr>\n",
       "    <tr>\n",
       "      <th>1</th>\n",
       "      <td>48686</td>\n",
       "      <td>42.380436</td>\n",
       "      <td>-71.124350</td>\n",
       "      <td>2</td>\n",
       "    </tr>\n",
       "    <tr>\n",
       "      <th>2</th>\n",
       "      <td>48686</td>\n",
       "      <td>42.380421</td>\n",
       "      <td>-71.124387</td>\n",
       "      <td>3</td>\n",
       "    </tr>\n",
       "    <tr>\n",
       "      <th>3</th>\n",
       "      <td>48686</td>\n",
       "      <td>42.380187</td>\n",
       "      <td>-71.124944</td>\n",
       "      <td>4</td>\n",
       "    </tr>\n",
       "    <tr>\n",
       "      <th>4</th>\n",
       "      <td>48686</td>\n",
       "      <td>42.380167</td>\n",
       "      <td>-71.124994</td>\n",
       "      <td>5</td>\n",
       "    </tr>\n",
       "    <tr>\n",
       "      <th>...</th>\n",
       "      <td>...</td>\n",
       "      <td>...</td>\n",
       "      <td>...</td>\n",
       "      <td>...</td>\n",
       "    </tr>\n",
       "    <tr>\n",
       "      <th>5619</th>\n",
       "      <td>48700</td>\n",
       "      <td>42.362642</td>\n",
       "      <td>-71.124582</td>\n",
       "      <td>285</td>\n",
       "    </tr>\n",
       "    <tr>\n",
       "      <th>5620</th>\n",
       "      <td>48700</td>\n",
       "      <td>42.362604</td>\n",
       "      <td>-71.124607</td>\n",
       "      <td>286</td>\n",
       "    </tr>\n",
       "    <tr>\n",
       "      <th>5621</th>\n",
       "      <td>48700</td>\n",
       "      <td>42.362566</td>\n",
       "      <td>-71.124630</td>\n",
       "      <td>287</td>\n",
       "    </tr>\n",
       "    <tr>\n",
       "      <th>5622</th>\n",
       "      <td>48700</td>\n",
       "      <td>42.362443</td>\n",
       "      <td>-71.124688</td>\n",
       "      <td>288</td>\n",
       "    </tr>\n",
       "    <tr>\n",
       "      <th>5623</th>\n",
       "      <td>48700</td>\n",
       "      <td>42.363334</td>\n",
       "      <td>-71.125379</td>\n",
       "      <td>289</td>\n",
       "    </tr>\n",
       "  </tbody>\n",
       "</table>\n",
       "<p>5624 rows × 4 columns</p>\n",
       "</div>"
      ],
      "text/plain": [
       "      shape_id  shape_pt_lat  shape_pt_lon  shape_pt_sequence\n",
       "0        48686     42.381867    -71.125325                  1\n",
       "1        48686     42.380436    -71.124350                  2\n",
       "2        48686     42.380421    -71.124387                  3\n",
       "3        48686     42.380187    -71.124944                  4\n",
       "4        48686     42.380167    -71.124994                  5\n",
       "...        ...           ...           ...                ...\n",
       "5619     48700     42.362642    -71.124582                285\n",
       "5620     48700     42.362604    -71.124607                286\n",
       "5621     48700     42.362566    -71.124630                287\n",
       "5622     48700     42.362443    -71.124688                288\n",
       "5623     48700     42.363334    -71.125379                289\n",
       "\n",
       "[5624 rows x 4 columns]"
      ]
     },
     "execution_count": 10,
     "metadata": {},
     "output_type": "execute_result"
    }
   ],
   "source": [
    "# shapes.txt: points that make the routes\n",
    "df_shapes = pd.read_csv('./google_transit/shapes.txt')\n",
    "df_shapes"
   ]
  },
  {
   "cell_type": "code",
   "execution_count": 39,
   "metadata": {},
   "outputs": [],
   "source": [
    "# dump the coordinates for each route into a individual json files as nested lists: [[x1, y1], [x2, y2], ...]\n",
    "'''\n",
    "route_1.txt: allston loop\n",
    "route_2.txt: quad sec\n",
    "route_3.txt: quad yard express\n",
    "'''\n",
    "# unique_shape_ids = list(set(df_shapes['shape_id']))\n",
    "wanted_ids = [48152, 48168, 48166] # allston_loop, quad_sec, quad_express\n",
    "\n",
    "count = 0\n",
    "for id in wanted_ids:\n",
    "    shape = df_shapes[df_shapes['shape_id']==id]\n",
    "    lat = list(shape['shape_pt_lat'])\n",
    "    long = list(shape['shape_pt_lon'])\n",
    "    coords_list = []\n",
    "\n",
    "    for index in range(len(lat)):\n",
    "        x_coord = lat[index]\n",
    "        y_coord = long[index]\n",
    "        coords_list.append([x_coord, y_coord])\n",
    "        # plt.plot(lat, long)\n",
    "    # print(coords_list)\n",
    "    count += 1\n",
    "    with open(f'./routes/route_{count}.json', 'w') as f:\n",
    "        json.dump(coords_list, f)"
   ]
  },
  {
   "cell_type": "code",
   "execution_count": 37,
   "metadata": {},
   "outputs": [
    {
     "data": {
      "text/plain": [
       "[<matplotlib.lines.Line2D at 0x1471901c0>]"
      ]
     },
     "execution_count": 37,
     "metadata": {},
     "output_type": "execute_result"
    },
    {
     "data": {
      "image/png": "[encoded data removed]",
      "text/plain": [
       "<Figure size 640x480 with 1 Axes>"
      ]
     },
     "metadata": {},
     "output_type": "display_data"
    }
   ],
   "source": [
    "shape = df_shapes[df_shapes['shape_id']==48152]\n",
    "lat = list(shape['shape_pt_lat'])\n",
    "long = list(shape['shape_pt_lon'])\n",
    "plt.plot(lat, long)"
   ]
  },
  {
   "cell_type": "code",
   "execution_count": 44,
   "metadata": {},
   "outputs": [],
   "source": [
    "live_pos = open('./passio-go/public/live_files/vehiclePositions.json')\n",
    "live_pos = json.load(live_pos)"
   ]
  },
  {
   "cell_type": "code",
   "execution_count": 47,
   "metadata": {},
   "outputs": [
    {
     "data": {
      "text/plain": [
       "dict_keys(['header', 'entity'])"
      ]
     },
     "execution_count": 47,
     "metadata": {},
     "output_type": "execute_result"
    }
   ],
   "source": [
    "live_pos.keys()"
   ]
  },
  {
   "cell_type": "code",
   "execution_count": 50,
   "metadata": {},
   "outputs": [
    {
     "data": {
      "text/plain": [
       "{'gtfs_realtime_version': '2.0', 'incrementality': 0, 'timestamp': 1708982484}"
      ]
     },
     "execution_count": 50,
     "metadata": {},
     "output_type": "execute_result"
    }
   ],
   "source": [
    "live_pos['header']"
   ]
  },
  {
   "cell_type": "code",
   "execution_count": 80,
   "metadata": {},
   "outputs": [
    {
     "data": {
      "text/plain": [
       "{'vehicle': {'id': '2884', 'label': '206'},\n",
       " 'position': {'latitude': 42.38051,\n",
       "  'longitude': -71.1243845,\n",
       "  'speed': 2.52,\n",
       "  'bearing': 226},\n",
       " 'current_stop_sequence': 8,\n",
       " 'stop_id': '23509',\n",
       " 'timestamp': 1708982480,\n",
       " 'trip': {'trip_id': '670551'}}"
      ]
     },
     "execution_count": 80,
     "metadata": {},
     "output_type": "execute_result"
    }
   ],
   "source": [
    "# live_pos['entity']: list of dictionarys, where each dict corresponds to a bus's current position information\n",
    "live_pos['entity'][1]['vehicle']"
   ]
  },
  {
   "cell_type": "code",
   "execution_count": 57,
   "metadata": {},
   "outputs": [],
   "source": [
    "'''\n",
    "Given one dict:\n",
    "    match 'trip_id' in trips.txt to get 'route_id' \n",
    "    match 'route_id' in routes.txt to only get routes [778, 2235, 790], [allston look, quad sec, quad express]\n",
    "'''\n",
    "df_trips = pd.read_csv('./passio-go/public/google_transit/trips.txt')\n",
    "df_routes = pd.read_csv('./passio-go/public/google_transit/routes.txt')"
   ]
  },
  {
   "cell_type": "code",
   "execution_count": 61,
   "metadata": {},
   "outputs": [
    {
     "data": {
      "text/html": [
       "<div>\n",
       "<style scoped>\n",
       "    .dataframe tbody tr th:only-of-type {\n",
       "        vertical-align: middle;\n",
       "    }\n",
       "\n",
       "    .dataframe tbody tr th {\n",
       "        vertical-align: top;\n",
       "    }\n",
       "\n",
       "    .dataframe thead th {\n",
       "        text-align: right;\n",
       "    }\n",
       "</style>\n",
       "<table border=\"1\" class=\"dataframe\">\n",
       "  <thead>\n",
       "    <tr style=\"text-align: right;\">\n",
       "      <th></th>\n",
       "      <th>route_id</th>\n",
       "      <th>agency_id</th>\n",
       "      <th>route_short_name</th>\n",
       "      <th>route_long_name</th>\n",
       "      <th>route_type</th>\n",
       "      <th>route_color</th>\n",
       "      <th>route_text_color</th>\n",
       "    </tr>\n",
       "  </thead>\n",
       "  <tbody>\n",
       "    <tr>\n",
       "      <th>1</th>\n",
       "      <td>778</td>\n",
       "      <td>831</td>\n",
       "      <td>AL</td>\n",
       "      <td>Allston Loop</td>\n",
       "      <td>3</td>\n",
       "      <td>A50606</td>\n",
       "      <td>FFFFFF</td>\n",
       "    </tr>\n",
       "  </tbody>\n",
       "</table>\n",
       "</div>"
      ],
      "text/plain": [
       "   route_id  agency_id route_short_name route_long_name  route_type  \\\n",
       "1       778        831               AL    Allston Loop           3   \n",
       "\n",
       "  route_color route_text_color  \n",
       "1      A50606           FFFFFF  "
      ]
     },
     "execution_count": 61,
     "metadata": {},
     "output_type": "execute_result"
    }
   ],
   "source": [
    "df_routes[df_routes['route_short_name']=='AL']"
   ]
  },
  {
   "cell_type": "code",
   "execution_count": 63,
   "metadata": {},
   "outputs": [
    {
     "data": {
      "text/html": [
       "<div>\n",
       "<style scoped>\n",
       "    .dataframe tbody tr th:only-of-type {\n",
       "        vertical-align: middle;\n",
       "    }\n",
       "\n",
       "    .dataframe tbody tr th {\n",
       "        vertical-align: top;\n",
       "    }\n",
       "\n",
       "    .dataframe thead th {\n",
       "        text-align: right;\n",
       "    }\n",
       "</style>\n",
       "<table border=\"1\" class=\"dataframe\">\n",
       "  <thead>\n",
       "    <tr style=\"text-align: right;\">\n",
       "      <th></th>\n",
       "      <th>route_id</th>\n",
       "      <th>agency_id</th>\n",
       "      <th>route_short_name</th>\n",
       "      <th>route_long_name</th>\n",
       "      <th>route_type</th>\n",
       "      <th>route_color</th>\n",
       "      <th>route_text_color</th>\n",
       "    </tr>\n",
       "  </thead>\n",
       "  <tbody>\n",
       "    <tr>\n",
       "      <th>14</th>\n",
       "      <td>2235</td>\n",
       "      <td>831</td>\n",
       "      <td>QSEC</td>\n",
       "      <td>Quad SEC Direct</td>\n",
       "      <td>3</td>\n",
       "      <td>9467BD</td>\n",
       "      <td>FFFFFF</td>\n",
       "    </tr>\n",
       "  </tbody>\n",
       "</table>\n",
       "</div>"
      ],
      "text/plain": [
       "    route_id  agency_id route_short_name  route_long_name  route_type  \\\n",
       "14      2235        831             QSEC  Quad SEC Direct           3   \n",
       "\n",
       "   route_color route_text_color  \n",
       "14      9467BD           FFFFFF  "
      ]
     },
     "execution_count": 63,
     "metadata": {},
     "output_type": "execute_result"
    }
   ],
   "source": [
    "df_routes[df_routes['route_short_name']=='QSEC']"
   ]
  },
  {
   "cell_type": "code",
   "execution_count": 64,
   "metadata": {},
   "outputs": [
    {
     "data": {
      "text/html": [
       "<div>\n",
       "<style scoped>\n",
       "    .dataframe tbody tr th:only-of-type {\n",
       "        vertical-align: middle;\n",
       "    }\n",
       "\n",
       "    .dataframe tbody tr th {\n",
       "        vertical-align: top;\n",
       "    }\n",
       "\n",
       "    .dataframe thead th {\n",
       "        text-align: right;\n",
       "    }\n",
       "</style>\n",
       "<table border=\"1\" class=\"dataframe\">\n",
       "  <thead>\n",
       "    <tr style=\"text-align: right;\">\n",
       "      <th></th>\n",
       "      <th>route_id</th>\n",
       "      <th>agency_id</th>\n",
       "      <th>route_short_name</th>\n",
       "      <th>route_long_name</th>\n",
       "      <th>route_type</th>\n",
       "      <th>route_color</th>\n",
       "      <th>route_text_color</th>\n",
       "    </tr>\n",
       "  </thead>\n",
       "  <tbody>\n",
       "    <tr>\n",
       "      <th>13</th>\n",
       "      <td>790</td>\n",
       "      <td>831</td>\n",
       "      <td>QE</td>\n",
       "      <td>Quad Express</td>\n",
       "      <td>3</td>\n",
       "      <td>136D1C</td>\n",
       "      <td>FFFFFF</td>\n",
       "    </tr>\n",
       "  </tbody>\n",
       "</table>\n",
       "</div>"
      ],
      "text/plain": [
       "    route_id  agency_id route_short_name route_long_name  route_type  \\\n",
       "13       790        831               QE    Quad Express           3   \n",
       "\n",
       "   route_color route_text_color  \n",
       "13      136D1C           FFFFFF  "
      ]
     },
     "execution_count": 64,
     "metadata": {},
     "output_type": "execute_result"
    }
   ],
   "source": [
    "df_routes[df_routes['route_short_name']=='QE']"
   ]
  },
  {
   "cell_type": "code",
   "execution_count": 79,
   "metadata": {},
   "outputs": [],
   "source": [
    "# route_id 778: AL\n",
    "# route_id 2235: QSEC\n",
    "# route_id 790: QE\n",
    "\n",
    "routes_of_interest = [778, 2235, 790]\n",
    "trips_per_route = {}\n",
    "routes_of_interest_df = df_trips[df_trips['route_id'].apply(lambda x: x in routes_of_interest)] # 136 trips that are either AL, QSEC, or QE\n",
    "\n",
    "for route_id in routes_of_interest:\n",
    "    trips_list = list(df_trips[df_trips['route_id']==route_id]['trip_id'].apply(lambda x: int(x)))\n",
    "    trips_per_route[route_id] = trips_list\n",
    "\n",
    "with open('trips_per_route.json', 'w') as f:\n",
    "    json.dump(trips_per_route, f)"
   ]
  },
  {
   "cell_type": "code",
   "execution_count": null,
   "metadata": {},
   "outputs": [],
   "source": []
  }
 ],
 "metadata": {
  "kernelspec": {
   "display_name": "Python 3",
   "language": "python",
   "name": "python3"
  },
  "language_info": {
   "codemirror_mode": {
    "name": "ipython",
    "version": 3
   },
   "file_extension": ".py",
   "mimetype": "text/x-python",
   "name": "python",
   "nbconvert_exporter": "python",
   "pygments_lexer": "ipython3",
   "version": "3.10.12"
  }
 },
 "nbformat": 4,
 "nbformat_minor": 2
}
